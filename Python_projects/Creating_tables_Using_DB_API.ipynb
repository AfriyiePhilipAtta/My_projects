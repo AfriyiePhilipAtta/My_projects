{
 "cells": [
  {
   "cell_type": "code",
   "execution_count": null,
   "id": "cc7db5cd-4343-42fc-ac3a-ea3faff5f9ab",
   "metadata": {},
   "outputs": [],
   "source": [
    "import sqlite3\n",
    "import pandas as pd\n",
    "conn = sqlite3.connect('store_transaction', timeout = 10)\n",
    "cursor_obj = conn.cursor()\n",
    "command_1 = 'create table IF NOT EXISTS store(transaction_id INTEGER PRIMARY KEY, first_name VARCHAR(15), last_name VARCHAR(15))'\n",
    "cursor_obj.execute(command_1)\n",
    "conn.commit()\n",
    "\n",
    "cursor_obj.execute(\"INSERT INTO store VALUES(23, 'Philip', 'Afriyie')\")\n",
    "cursor_obj.execute('SELECT* FROM store')\n",
    "results = cursor_obj.fetchall()\n",
    "print(results)"
   ]
  },
  {
   "cell_type": "code",
   "execution_count": 16,
   "id": "5e5591af-4338-4aeb-991e-50326b01a4ad",
   "metadata": {},
   "outputs": [
    {
     "data": {
      "text/html": [
       "<div>\n",
       "<style scoped>\n",
       "    .dataframe tbody tr th:only-of-type {\n",
       "        vertical-align: middle;\n",
       "    }\n",
       "\n",
       "    .dataframe tbody tr th {\n",
       "        vertical-align: top;\n",
       "    }\n",
       "\n",
       "    .dataframe thead th {\n",
       "        text-align: right;\n",
       "    }\n",
       "</style>\n",
       "<table border=\"1\" class=\"dataframe\">\n",
       "  <thead>\n",
       "    <tr style=\"text-align: right;\">\n",
       "      <th></th>\n",
       "      <th>transaction_id</th>\n",
       "      <th>first_name</th>\n",
       "      <th>last_name</th>\n",
       "    </tr>\n",
       "  </thead>\n",
       "  <tbody>\n",
       "    <tr>\n",
       "      <th>0</th>\n",
       "      <td>23</td>\n",
       "      <td>Afriyie</td>\n",
       "      <td>Philip</td>\n",
       "    </tr>\n",
       "  </tbody>\n",
       "</table>\n",
       "</div>"
      ],
      "text/plain": [
       "   transaction_id first_name last_name\n",
       "0              23    Afriyie    Philip"
      ]
     },
     "execution_count": 16,
     "metadata": {},
     "output_type": "execute_result"
    }
   ],
   "source": [
    "df = pd.DataFrame(results, columns = ['transaction_id', 'first_name', 'last_name'])\n",
    "df"
   ]
  },
  {
   "cell_type": "code",
   "execution_count": 11,
   "id": "5e1759d2-5638-481c-80aa-66bf00425d14",
   "metadata": {},
   "outputs": [],
   "source": [
    "conn.close()"
   ]
  }
 ],
 "metadata": {
  "kernelspec": {
   "display_name": "Python 3 (ipykernel)",
   "language": "python",
   "name": "python3"
  },
  "language_info": {
   "codemirror_mode": {
    "name": "ipython",
    "version": 3
   },
   "file_extension": ".py",
   "mimetype": "text/x-python",
   "name": "python",
   "nbconvert_exporter": "python",
   "pygments_lexer": "ipython3",
   "version": "3.12.4"
  }
 },
 "nbformat": 4,
 "nbformat_minor": 5
}
