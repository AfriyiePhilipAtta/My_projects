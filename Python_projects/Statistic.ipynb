{
 "cells": [
  {
   "cell_type": "code",
   "execution_count": 42,
   "id": "1c60a772-4b90-4078-8bfc-65638c17d9c0",
   "metadata": {},
   "outputs": [
    {
     "data": {
      "text/html": [
       "<div>\n",
       "<style scoped>\n",
       "    .dataframe tbody tr th:only-of-type {\n",
       "        vertical-align: middle;\n",
       "    }\n",
       "\n",
       "    .dataframe tbody tr th {\n",
       "        vertical-align: top;\n",
       "    }\n",
       "\n",
       "    .dataframe thead th {\n",
       "        text-align: right;\n",
       "    }\n",
       "</style>\n",
       "<table border=\"1\" class=\"dataframe\">\n",
       "  <thead>\n",
       "    <tr style=\"text-align: right;\">\n",
       "      <th></th>\n",
       "      <th>StudentID</th>\n",
       "      <th>Age</th>\n",
       "      <th>Gender</th>\n",
       "      <th>Ethnicity</th>\n",
       "      <th>ParentalEducation</th>\n",
       "      <th>StudyTimeWeekly</th>\n",
       "      <th>Absences</th>\n",
       "      <th>Tutoring</th>\n",
       "      <th>ParentalSupport</th>\n",
       "      <th>Extracurricular</th>\n",
       "      <th>Sports</th>\n",
       "      <th>Music</th>\n",
       "      <th>Volunteering</th>\n",
       "      <th>GPA</th>\n",
       "      <th>GradeClass</th>\n",
       "    </tr>\n",
       "  </thead>\n",
       "  <tbody>\n",
       "    <tr>\n",
       "      <th>0</th>\n",
       "      <td>1001</td>\n",
       "      <td>17</td>\n",
       "      <td>1</td>\n",
       "      <td>0</td>\n",
       "      <td>2</td>\n",
       "      <td>19.833723</td>\n",
       "      <td>7</td>\n",
       "      <td>1</td>\n",
       "      <td>2</td>\n",
       "      <td>0</td>\n",
       "      <td>0</td>\n",
       "      <td>1</td>\n",
       "      <td>0</td>\n",
       "      <td>2.929196</td>\n",
       "      <td>2.0</td>\n",
       "    </tr>\n",
       "    <tr>\n",
       "      <th>1</th>\n",
       "      <td>1002</td>\n",
       "      <td>18</td>\n",
       "      <td>0</td>\n",
       "      <td>0</td>\n",
       "      <td>1</td>\n",
       "      <td>15.408756</td>\n",
       "      <td>0</td>\n",
       "      <td>0</td>\n",
       "      <td>1</td>\n",
       "      <td>0</td>\n",
       "      <td>0</td>\n",
       "      <td>0</td>\n",
       "      <td>0</td>\n",
       "      <td>3.042915</td>\n",
       "      <td>1.0</td>\n",
       "    </tr>\n",
       "    <tr>\n",
       "      <th>2</th>\n",
       "      <td>1003</td>\n",
       "      <td>15</td>\n",
       "      <td>0</td>\n",
       "      <td>2</td>\n",
       "      <td>3</td>\n",
       "      <td>4.210570</td>\n",
       "      <td>26</td>\n",
       "      <td>0</td>\n",
       "      <td>2</td>\n",
       "      <td>0</td>\n",
       "      <td>0</td>\n",
       "      <td>0</td>\n",
       "      <td>0</td>\n",
       "      <td>0.112602</td>\n",
       "      <td>4.0</td>\n",
       "    </tr>\n",
       "    <tr>\n",
       "      <th>3</th>\n",
       "      <td>1004</td>\n",
       "      <td>17</td>\n",
       "      <td>1</td>\n",
       "      <td>0</td>\n",
       "      <td>3</td>\n",
       "      <td>10.028829</td>\n",
       "      <td>14</td>\n",
       "      <td>0</td>\n",
       "      <td>3</td>\n",
       "      <td>1</td>\n",
       "      <td>0</td>\n",
       "      <td>0</td>\n",
       "      <td>0</td>\n",
       "      <td>2.054218</td>\n",
       "      <td>3.0</td>\n",
       "    </tr>\n",
       "    <tr>\n",
       "      <th>4</th>\n",
       "      <td>1005</td>\n",
       "      <td>17</td>\n",
       "      <td>1</td>\n",
       "      <td>0</td>\n",
       "      <td>2</td>\n",
       "      <td>4.672495</td>\n",
       "      <td>17</td>\n",
       "      <td>1</td>\n",
       "      <td>3</td>\n",
       "      <td>0</td>\n",
       "      <td>0</td>\n",
       "      <td>0</td>\n",
       "      <td>0</td>\n",
       "      <td>1.288061</td>\n",
       "      <td>4.0</td>\n",
       "    </tr>\n",
       "  </tbody>\n",
       "</table>\n",
       "</div>"
      ],
      "text/plain": [
       "   StudentID  Age  Gender  Ethnicity  ParentalEducation  StudyTimeWeekly  \\\n",
       "0       1001   17       1          0                  2        19.833723   \n",
       "1       1002   18       0          0                  1        15.408756   \n",
       "2       1003   15       0          2                  3         4.210570   \n",
       "3       1004   17       1          0                  3        10.028829   \n",
       "4       1005   17       1          0                  2         4.672495   \n",
       "\n",
       "   Absences  Tutoring  ParentalSupport  Extracurricular  Sports  Music  \\\n",
       "0         7         1                2                0       0      1   \n",
       "1         0         0                1                0       0      0   \n",
       "2        26         0                2                0       0      0   \n",
       "3        14         0                3                1       0      0   \n",
       "4        17         1                3                0       0      0   \n",
       "\n",
       "   Volunteering       GPA  GradeClass  \n",
       "0             0  2.929196         2.0  \n",
       "1             0  3.042915         1.0  \n",
       "2             0  0.112602         4.0  \n",
       "3             0  2.054218         3.0  \n",
       "4             0  1.288061         4.0  "
      ]
     },
     "execution_count": 42,
     "metadata": {},
     "output_type": "execute_result"
    }
   ],
   "source": [
    "#Student performance statistics \n",
    "\n",
    "import pandas as pd\n",
    "df=pd.read_csv('/Users/User/Downloads/Data_analysis/Student_performance_data _.csv')\n",
    "df.head()"
   ]
  },
  {
   "cell_type": "code",
   "execution_count": 43,
   "id": "5586dd3c-7a83-40c8-9b4b-84447ce5af1a",
   "metadata": {},
   "outputs": [
    {
     "name": "stdout",
     "output_type": "stream",
     "text": [
      "<class 'pandas.core.frame.DataFrame'>\n",
      "RangeIndex: 2392 entries, 0 to 2391\n",
      "Data columns (total 15 columns):\n",
      " #   Column             Non-Null Count  Dtype  \n",
      "---  ------             --------------  -----  \n",
      " 0   StudentID          2392 non-null   int64  \n",
      " 1   Age                2392 non-null   int64  \n",
      " 2   Gender             2392 non-null   int64  \n",
      " 3   Ethnicity          2392 non-null   int64  \n",
      " 4   ParentalEducation  2392 non-null   int64  \n",
      " 5   StudyTimeWeekly    2392 non-null   float64\n",
      " 6   Absences           2392 non-null   int64  \n",
      " 7   Tutoring           2392 non-null   int64  \n",
      " 8   ParentalSupport    2392 non-null   int64  \n",
      " 9   Extracurricular    2392 non-null   int64  \n",
      " 10  Sports             2392 non-null   int64  \n",
      " 11  Music              2392 non-null   int64  \n",
      " 12  Volunteering       2392 non-null   int64  \n",
      " 13  GPA                2392 non-null   float64\n",
      " 14  GradeClass         2392 non-null   float64\n",
      "dtypes: float64(3), int64(12)\n",
      "memory usage: 280.4 KB\n"
     ]
    }
   ],
   "source": [
    "#Checking for missing values\n",
    "df.info()"
   ]
  },
  {
   "cell_type": "code",
   "execution_count": 47,
   "id": "2d2a8802-29ee-45fe-b238-deab61ffe25c",
   "metadata": {},
   "outputs": [
    {
     "data": {
      "text/html": [
       "<div>\n",
       "<style scoped>\n",
       "    .dataframe tbody tr th:only-of-type {\n",
       "        vertical-align: middle;\n",
       "    }\n",
       "\n",
       "    .dataframe tbody tr th {\n",
       "        vertical-align: top;\n",
       "    }\n",
       "\n",
       "    .dataframe thead th {\n",
       "        text-align: right;\n",
       "    }\n",
       "</style>\n",
       "<table border=\"1\" class=\"dataframe\">\n",
       "  <thead>\n",
       "    <tr style=\"text-align: right;\">\n",
       "      <th></th>\n",
       "      <th>Age</th>\n",
       "      <th>Gender</th>\n",
       "      <th>StudyTimeWeekly</th>\n",
       "      <th>GPA</th>\n",
       "      <th>GradeClass</th>\n",
       "    </tr>\n",
       "  </thead>\n",
       "  <tbody>\n",
       "    <tr>\n",
       "      <th>0</th>\n",
       "      <td>17</td>\n",
       "      <td>1</td>\n",
       "      <td>19.833723</td>\n",
       "      <td>2.929196</td>\n",
       "      <td>2.0</td>\n",
       "    </tr>\n",
       "    <tr>\n",
       "      <th>1</th>\n",
       "      <td>18</td>\n",
       "      <td>0</td>\n",
       "      <td>15.408756</td>\n",
       "      <td>3.042915</td>\n",
       "      <td>1.0</td>\n",
       "    </tr>\n",
       "    <tr>\n",
       "      <th>2</th>\n",
       "      <td>15</td>\n",
       "      <td>0</td>\n",
       "      <td>4.210570</td>\n",
       "      <td>0.112602</td>\n",
       "      <td>4.0</td>\n",
       "    </tr>\n",
       "    <tr>\n",
       "      <th>3</th>\n",
       "      <td>17</td>\n",
       "      <td>1</td>\n",
       "      <td>10.028829</td>\n",
       "      <td>2.054218</td>\n",
       "      <td>3.0</td>\n",
       "    </tr>\n",
       "    <tr>\n",
       "      <th>4</th>\n",
       "      <td>17</td>\n",
       "      <td>1</td>\n",
       "      <td>4.672495</td>\n",
       "      <td>1.288061</td>\n",
       "      <td>4.0</td>\n",
       "    </tr>\n",
       "    <tr>\n",
       "      <th>...</th>\n",
       "      <td>...</td>\n",
       "      <td>...</td>\n",
       "      <td>...</td>\n",
       "      <td>...</td>\n",
       "      <td>...</td>\n",
       "    </tr>\n",
       "    <tr>\n",
       "      <th>2387</th>\n",
       "      <td>18</td>\n",
       "      <td>1</td>\n",
       "      <td>10.680555</td>\n",
       "      <td>3.455509</td>\n",
       "      <td>0.0</td>\n",
       "    </tr>\n",
       "    <tr>\n",
       "      <th>2388</th>\n",
       "      <td>17</td>\n",
       "      <td>0</td>\n",
       "      <td>7.583217</td>\n",
       "      <td>3.279150</td>\n",
       "      <td>4.0</td>\n",
       "    </tr>\n",
       "    <tr>\n",
       "      <th>2389</th>\n",
       "      <td>16</td>\n",
       "      <td>1</td>\n",
       "      <td>6.805500</td>\n",
       "      <td>1.142333</td>\n",
       "      <td>2.0</td>\n",
       "    </tr>\n",
       "    <tr>\n",
       "      <th>2390</th>\n",
       "      <td>16</td>\n",
       "      <td>1</td>\n",
       "      <td>12.416653</td>\n",
       "      <td>1.803297</td>\n",
       "      <td>1.0</td>\n",
       "    </tr>\n",
       "    <tr>\n",
       "      <th>2391</th>\n",
       "      <td>16</td>\n",
       "      <td>1</td>\n",
       "      <td>17.819907</td>\n",
       "      <td>2.140014</td>\n",
       "      <td>1.0</td>\n",
       "    </tr>\n",
       "  </tbody>\n",
       "</table>\n",
       "<p>2392 rows × 5 columns</p>\n",
       "</div>"
      ],
      "text/plain": [
       "      Age  Gender  StudyTimeWeekly       GPA  GradeClass\n",
       "0      17       1        19.833723  2.929196         2.0\n",
       "1      18       0        15.408756  3.042915         1.0\n",
       "2      15       0         4.210570  0.112602         4.0\n",
       "3      17       1        10.028829  2.054218         3.0\n",
       "4      17       1         4.672495  1.288061         4.0\n",
       "...   ...     ...              ...       ...         ...\n",
       "2387   18       1        10.680555  3.455509         0.0\n",
       "2388   17       0         7.583217  3.279150         4.0\n",
       "2389   16       1         6.805500  1.142333         2.0\n",
       "2390   16       1        12.416653  1.803297         1.0\n",
       "2391   16       1        17.819907  2.140014         1.0\n",
       "\n",
       "[2392 rows x 5 columns]"
      ]
     },
     "execution_count": 47,
     "metadata": {},
     "output_type": "execute_result"
    }
   ],
   "source": [
    "#Columns of Interest\n",
    "df_Col=df.loc[:,['Age','Gender','StudyTimeWeekly','GPA','GradeClass']]\n",
    "df_Col"
   ]
  },
  {
   "cell_type": "code",
   "execution_count": 49,
   "id": "8a27e795-54f7-4805-9b59-7d272a7abc5d",
   "metadata": {},
   "outputs": [
    {
     "data": {
      "text/html": [
       "<div>\n",
       "<style scoped>\n",
       "    .dataframe tbody tr th:only-of-type {\n",
       "        vertical-align: middle;\n",
       "    }\n",
       "\n",
       "    .dataframe tbody tr th {\n",
       "        vertical-align: top;\n",
       "    }\n",
       "\n",
       "    .dataframe thead th {\n",
       "        text-align: right;\n",
       "    }\n",
       "</style>\n",
       "<table border=\"1\" class=\"dataframe\">\n",
       "  <thead>\n",
       "    <tr style=\"text-align: right;\">\n",
       "      <th></th>\n",
       "      <th>Age</th>\n",
       "      <th>Gender</th>\n",
       "      <th>StudyTimeWeekly</th>\n",
       "      <th>GPA</th>\n",
       "      <th>GradeClass</th>\n",
       "    </tr>\n",
       "  </thead>\n",
       "  <tbody>\n",
       "    <tr>\n",
       "      <th>count</th>\n",
       "      <td>2392.000000</td>\n",
       "      <td>2392.000000</td>\n",
       "      <td>2392.000000</td>\n",
       "      <td>2392.000000</td>\n",
       "      <td>2392.000000</td>\n",
       "    </tr>\n",
       "    <tr>\n",
       "      <th>mean</th>\n",
       "      <td>16.468645</td>\n",
       "      <td>0.510870</td>\n",
       "      <td>9.771992</td>\n",
       "      <td>1.906186</td>\n",
       "      <td>2.983696</td>\n",
       "    </tr>\n",
       "    <tr>\n",
       "      <th>std</th>\n",
       "      <td>1.123798</td>\n",
       "      <td>0.499986</td>\n",
       "      <td>5.652774</td>\n",
       "      <td>0.915156</td>\n",
       "      <td>1.233908</td>\n",
       "    </tr>\n",
       "    <tr>\n",
       "      <th>min</th>\n",
       "      <td>15.000000</td>\n",
       "      <td>0.000000</td>\n",
       "      <td>0.001057</td>\n",
       "      <td>0.000000</td>\n",
       "      <td>0.000000</td>\n",
       "    </tr>\n",
       "    <tr>\n",
       "      <th>25%</th>\n",
       "      <td>15.000000</td>\n",
       "      <td>0.000000</td>\n",
       "      <td>5.043079</td>\n",
       "      <td>1.174803</td>\n",
       "      <td>2.000000</td>\n",
       "    </tr>\n",
       "    <tr>\n",
       "      <th>50%</th>\n",
       "      <td>16.000000</td>\n",
       "      <td>1.000000</td>\n",
       "      <td>9.705363</td>\n",
       "      <td>1.893393</td>\n",
       "      <td>4.000000</td>\n",
       "    </tr>\n",
       "    <tr>\n",
       "      <th>75%</th>\n",
       "      <td>17.000000</td>\n",
       "      <td>1.000000</td>\n",
       "      <td>14.408410</td>\n",
       "      <td>2.622216</td>\n",
       "      <td>4.000000</td>\n",
       "    </tr>\n",
       "    <tr>\n",
       "      <th>max</th>\n",
       "      <td>18.000000</td>\n",
       "      <td>1.000000</td>\n",
       "      <td>19.978094</td>\n",
       "      <td>4.000000</td>\n",
       "      <td>4.000000</td>\n",
       "    </tr>\n",
       "  </tbody>\n",
       "</table>\n",
       "</div>"
      ],
      "text/plain": [
       "               Age       Gender  StudyTimeWeekly          GPA   GradeClass\n",
       "count  2392.000000  2392.000000      2392.000000  2392.000000  2392.000000\n",
       "mean     16.468645     0.510870         9.771992     1.906186     2.983696\n",
       "std       1.123798     0.499986         5.652774     0.915156     1.233908\n",
       "min      15.000000     0.000000         0.001057     0.000000     0.000000\n",
       "25%      15.000000     0.000000         5.043079     1.174803     2.000000\n",
       "50%      16.000000     1.000000         9.705363     1.893393     4.000000\n",
       "75%      17.000000     1.000000        14.408410     2.622216     4.000000\n",
       "max      18.000000     1.000000        19.978094     4.000000     4.000000"
      ]
     },
     "execution_count": 49,
     "metadata": {},
     "output_type": "execute_result"
    }
   ],
   "source": [
    "#Statistics\n",
    "df_Col.describe()"
   ]
  },
  {
   "cell_type": "code",
   "execution_count": 75,
   "id": "7d3c5ddf-3d88-4dfe-92ea-24e782f00fbc",
   "metadata": {},
   "outputs": [
    {
     "data": {
      "text/plain": [
       "mean        16.468645\n",
       "median      16.000000\n",
       "std          1.123798\n",
       "count     2392.000000\n",
       "Name: Age, dtype: float64"
      ]
     },
     "execution_count": 75,
     "metadata": {},
     "output_type": "execute_result"
    }
   ],
   "source": [
    "#Statistics by coding \n",
    "df_Col.Age.agg(['mean','median','std','count'])"
   ]
  },
  {
   "cell_type": "code",
   "execution_count": 57,
   "id": "06ed5f87-31a5-4a1a-84ab-31f90505e166",
   "metadata": {},
   "outputs": [
    {
     "name": "stdout",
     "output_type": "stream",
     "text": [
      "           Age      Gender  StudyTimeWeekly         GPA  GradeClass\n",
      "mean      15.0    0.463492         9.837934    1.898509    2.996825\n",
      "median    15.0    0.000000         9.744839    1.893825    4.000000\n",
      "std        0.0    0.499062         5.619763    0.919586    1.227658\n",
      "average   15.0    0.463492         9.837934    1.898509    2.996825\n",
      "count    630.0  630.000000       630.000000  630.000000  630.000000\n",
      "                 Age       Gender  StudyTimeWeekly          GPA   GradeClass\n",
      "mean       16.497458     0.529661         9.713599     1.917232     2.981356\n",
      "median     16.000000     1.000000         9.653180     1.926736     3.000000\n",
      "std         0.500206     0.499331         5.644022     0.915290     1.228579\n",
      "average    16.497458     0.529661         9.713599     1.917232     2.981356\n",
      "count    1180.000000  1180.000000      1180.000000  1180.000000  1180.000000\n",
      "           Age      Gender  StudyTimeWeekly         GPA  GradeClass\n",
      "mean      18.0    0.524055         9.819003    1.892101    2.974227\n",
      "median    18.0    1.000000         9.659339    1.795152    4.000000\n",
      "std        0.0    0.499851         5.714325    0.911363    1.253301\n",
      "average   18.0    0.524055         9.819003    1.892101    2.974227\n",
      "count    582.0  582.000000       582.000000  582.000000  582.000000\n"
     ]
    }
   ],
   "source": [
    "#Statistics by grouping\n",
    "Kid=df_Col[df_Col.Age<16]\n",
    "Teen=df_Col[(df_Col.Age>=16)&(df_Col.Age<18)]\n",
    "Adult=df_Col[df_Col.Age>=18]\n",
    "age_group=[Kid,Teen,Adult]\n",
    "for group in age_group:\n",
    "    stats=group.agg(['mean','median','std','average','count'])\n",
    "    print(stats)"
   ]
  },
  {
   "cell_type": "code",
   "execution_count": 76,
   "id": "ee43e091-2430-4f54-a121-ccda769dc367",
   "metadata": {},
   "outputs": [
    {
     "name": "stdout",
     "output_type": "stream",
     "text": [
      "Kid\n",
      "mean         1.898509\n",
      "median       1.893825\n",
      "std          0.919586\n",
      "average      1.898509\n",
      "count      630.000000\n",
      "Name: GPA, dtype: float64\n",
      "Teen\n",
      "mean          1.917232\n",
      "median        1.926736\n",
      "std           0.915290\n",
      "average       1.917232\n",
      "count      1180.000000\n",
      "Name: GPA, dtype: float64\n",
      "Adult\n",
      "mean         1.892101\n",
      "median       1.795152\n",
      "std          0.911363\n",
      "average      1.892101\n",
      "count      582.000000\n",
      "Name: GPA, dtype: float64\n"
     ]
    }
   ],
   "source": [
    "#Using dictionaries\n",
    "age_group={'Kid':Kid,'Teen':Teen,'Adult':Adult}\n",
    "for name, group in age_group.items():\n",
    "    stat=group.GPA.agg(['mean','median','std','average','count'])\n",
    "    print(name)\n",
    "    print(stat)"
   ]
  },
  {
   "cell_type": "code",
   "execution_count": 67,
   "id": "fd7ff170-4e73-40be-959e-2fd203d46da1",
   "metadata": {},
   "outputs": [
    {
     "data": {
      "text/plain": [
       "1.8985087248042185"
      ]
     },
     "execution_count": 67,
     "metadata": {},
     "output_type": "execute_result"
    }
   ],
   "source": [
    "#Doing it individually \n",
    "#GPA\n",
    "df_Kid=Kid.GPA.mean()\n",
    "df_Kid"
   ]
  },
  {
   "cell_type": "code",
   "execution_count": 68,
   "id": "9035944c-146d-4cc5-b473-753f080ff1a3",
   "metadata": {},
   "outputs": [
    {
     "data": {
      "text/plain": [
       "1.9172323477644013"
      ]
     },
     "execution_count": 68,
     "metadata": {},
     "output_type": "execute_result"
    }
   ],
   "source": [
    "df_Teen=Teen.GPA.mean()\n",
    "df_Teen"
   ]
  },
  {
   "cell_type": "code",
   "execution_count": 64,
   "id": "522bbe95-507b-4ff6-a680-879386eeacfd",
   "metadata": {},
   "outputs": [],
   "source": [
    "df_Adult=Adult.GPA.mean()"
   ]
  },
  {
   "cell_type": "code",
   "execution_count": 69,
   "id": "10f60212-1c69-404e-8aaa-210d10123ffb",
   "metadata": {},
   "outputs": [
    {
     "data": {
      "text/plain": [
       "1.8921013215347662"
      ]
     },
     "execution_count": 69,
     "metadata": {},
     "output_type": "execute_result"
    }
   ],
   "source": [
    "df_Adult"
   ]
  },
  {
   "cell_type": "code",
   "execution_count": 80,
   "id": "c17f5c83-aca6-49f6-aff6-98be63e31da7",
   "metadata": {},
   "outputs": [
    {
     "data": {
      "text/plain": [
       "84"
      ]
     },
     "execution_count": 80,
     "metadata": {},
     "output_type": "execute_result"
    }
   ],
   "source": [
    "#Number of Kids who had 3 GPA and above \n",
    "group=age_group['Kid']\n",
    "(group.GPA>=3).sum()\n"
   ]
  },
  {
   "cell_type": "code",
   "execution_count": 83,
   "id": "c80aac3b-6c0f-4e6b-ab85-8741e08f6e29",
   "metadata": {},
   "outputs": [
    {
     "data": {
      "text/plain": [
       "0.13333333333333333"
      ]
     },
     "execution_count": 83,
     "metadata": {},
     "output_type": "execute_result"
    }
   ],
   "source": [
    "#Percentage of kids who had 3.0 and above \n",
    "group_size=group.GPA.count()\n",
    "n_over_3 = (group.GPA>=3).sum()\n",
    "per_3 = (group.GPA>=3).sum()/group.GPA.count()\n",
    "per_3"
   ]
  },
  {
   "cell_type": "code",
   "execution_count": 86,
   "id": "21e5565d-42d0-4ded-88c9-bdf30a27d50b",
   "metadata": {},
   "outputs": [
    {
     "data": {
      "text/plain": [
       "155"
      ]
     },
     "execution_count": 86,
     "metadata": {},
     "output_type": "execute_result"
    }
   ],
   "source": [
    "#Number of Teens who had 3 GPA and above \n",
    "group=age_group['Teen']\n",
    "(group.GPA>=3).sum()\n"
   ]
  },
  {
   "cell_type": "code",
   "execution_count": 90,
   "id": "8b25b71f-344f-4eaa-85e4-f796cb5eb160",
   "metadata": {},
   "outputs": [
    {
     "data": {
      "text/plain": [
       "0.13135593220338984"
      ]
     },
     "execution_count": 90,
     "metadata": {},
     "output_type": "execute_result"
    }
   ],
   "source": [
    "\n",
    "number_over_3=(group.GPA>=3).sum()\n",
    "group_size_2= group.GPA.count()\n",
    "per_3_Teen =(group.GPA>=3).sum()/group.GPA.count()\n",
    "per_3_Teen"
   ]
  },
  {
   "cell_type": "code",
   "execution_count": 91,
   "id": "e4af2dfe-d499-40a8-bebe-2aafb9db039d",
   "metadata": {},
   "outputs": [
    {
     "data": {
      "text/plain": [
       "82"
      ]
     },
     "execution_count": 91,
     "metadata": {},
     "output_type": "execute_result"
    }
   ],
   "source": [
    "group=age_group['Adult']\n",
    "(group.GPA>=3).sum()\n",
    "\n"
   ]
  },
  {
   "cell_type": "code",
   "execution_count": 92,
   "id": "02702493-c4ed-4f26-9f82-0e66b3ba2f0a",
   "metadata": {},
   "outputs": [
    {
     "data": {
      "text/plain": [
       "0.140893470790378"
      ]
     },
     "execution_count": 92,
     "metadata": {},
     "output_type": "execute_result"
    }
   ],
   "source": [
    "#Using percentage_at_atleast\n",
    "n_over_Teen_3=(group.GPA>=3).sum()\n",
    "group_size_2=group.GPA.count()\n",
    "per_3_Adult=(group.GPA>=3).sum()/group.GPA.count()\n",
    "per_3_Adult"
   ]
  },
  {
   "cell_type": "code",
   "execution_count": 131,
   "id": "e69312d6-d5f6-462c-b5f8-bee177b05ff5",
   "metadata": {},
   "outputs": [],
   "source": [
    "def percentage_at_least(group,value):\n",
    "    n_over_3 = (group['GPA']>=value).sum()\n",
    "    group_size = group['GPA'].count()\n",
    "    perc_over_3 =  n_over_3/group_size\n",
    "    return perc_over_3\n"
   ]
  },
  {
   "cell_type": "code",
   "execution_count": 133,
   "id": "251e948e-7da0-47e6-b5b7-8aa71de981ce",
   "metadata": {},
   "outputs": [
    {
     "data": {
      "text/plain": [
       "0.13333333333333333"
      ]
     },
     "execution_count": 133,
     "metadata": {},
     "output_type": "execute_result"
    }
   ],
   "source": [
    "percentage_at_least (age_group['Kid'],3)"
   ]
  },
  {
   "cell_type": "code",
   "execution_count": 134,
   "id": "5ee5ba37-653d-4374-897d-14218fb0b84b",
   "metadata": {},
   "outputs": [
    {
     "data": {
      "text/plain": [
       "0.13135593220338984"
      ]
     },
     "execution_count": 134,
     "metadata": {},
     "output_type": "execute_result"
    }
   ],
   "source": [
    "percentage_at_least (age_group['Teen'],3)"
   ]
  },
  {
   "cell_type": "code",
   "execution_count": 135,
   "id": "450b32cf-cd54-484b-99b2-9a718c4fc420",
   "metadata": {},
   "outputs": [
    {
     "data": {
      "text/plain": [
       "0.140893470790378"
      ]
     },
     "execution_count": 135,
     "metadata": {},
     "output_type": "execute_result"
    }
   ],
   "source": [
    "percentage_at_least (age_group['Adult'],3)"
   ]
  }
 ],
 "metadata": {
  "kernelspec": {
   "display_name": "Python 3 (ipykernel)",
   "language": "python",
   "name": "python3"
  },
  "language_info": {
   "codemirror_mode": {
    "name": "ipython",
    "version": 3
   },
   "file_extension": ".py",
   "mimetype": "text/x-python",
   "name": "python",
   "nbconvert_exporter": "python",
   "pygments_lexer": "ipython3",
   "version": "3.12.3"
  }
 },
 "nbformat": 4,
 "nbformat_minor": 5
}
