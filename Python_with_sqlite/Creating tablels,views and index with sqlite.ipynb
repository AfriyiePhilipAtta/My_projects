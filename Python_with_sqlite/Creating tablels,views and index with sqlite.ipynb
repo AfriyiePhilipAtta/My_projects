{
 "cells": [
  {
   "cell_type": "code",
   "execution_count": 21,
   "id": "eb0b6cb9-5349-4541-8107-66808f3455d6",
   "metadata": {
    "scrolled": true
   },
   "outputs": [
    {
     "name": "stdout",
     "output_type": "stream",
     "text": [
      "Requirement already satisfied: ipython-sql in c:\\users\\user\\anaconda3\\lib\\site-packages (0.5.0)\n",
      "Requirement already satisfied: prettytable in c:\\users\\user\\anaconda3\\lib\\site-packages (from ipython-sql) (3.12.0)\n",
      "Requirement already satisfied: ipython in c:\\users\\user\\anaconda3\\lib\\site-packages (from ipython-sql) (8.25.0)\n",
      "Requirement already satisfied: sqlalchemy>=2.0 in c:\\users\\user\\anaconda3\\lib\\site-packages (from ipython-sql) (2.0.30)\n",
      "Requirement already satisfied: sqlparse in c:\\users\\user\\anaconda3\\lib\\site-packages (from ipython-sql) (0.5.2)\n",
      "Requirement already satisfied: six in c:\\users\\user\\anaconda3\\lib\\site-packages (from ipython-sql) (1.16.0)\n",
      "Requirement already satisfied: ipython-genutils in c:\\users\\user\\anaconda3\\lib\\site-packages (from ipython-sql) (0.2.0)\n",
      "Requirement already satisfied: typing-extensions>=4.6.0 in c:\\users\\user\\anaconda3\\lib\\site-packages (from sqlalchemy>=2.0->ipython-sql) (4.11.0)\n",
      "Requirement already satisfied: greenlet!=0.4.17 in c:\\users\\user\\anaconda3\\lib\\site-packages (from sqlalchemy>=2.0->ipython-sql) (3.0.1)\n",
      "Requirement already satisfied: decorator in c:\\users\\user\\anaconda3\\lib\\site-packages (from ipython->ipython-sql) (5.1.1)\n",
      "Requirement already satisfied: jedi>=0.16 in c:\\users\\user\\anaconda3\\lib\\site-packages (from ipython->ipython-sql) (0.18.1)\n",
      "Requirement already satisfied: matplotlib-inline in c:\\users\\user\\anaconda3\\lib\\site-packages (from ipython->ipython-sql) (0.1.6)\n",
      "Requirement already satisfied: prompt-toolkit<3.1.0,>=3.0.41 in c:\\users\\user\\anaconda3\\lib\\site-packages (from ipython->ipython-sql) (3.0.43)\n",
      "Requirement already satisfied: pygments>=2.4.0 in c:\\users\\user\\anaconda3\\lib\\site-packages (from ipython->ipython-sql) (2.15.1)\n",
      "Requirement already satisfied: stack-data in c:\\users\\user\\anaconda3\\lib\\site-packages (from ipython->ipython-sql) (0.2.0)\n",
      "Requirement already satisfied: traitlets>=5.13.0 in c:\\users\\user\\anaconda3\\lib\\site-packages (from ipython->ipython-sql) (5.14.3)\n",
      "Requirement already satisfied: colorama in c:\\users\\user\\anaconda3\\lib\\site-packages (from ipython->ipython-sql) (0.4.6)\n",
      "Requirement already satisfied: wcwidth in c:\\users\\user\\anaconda3\\lib\\site-packages (from prettytable->ipython-sql) (0.2.5)\n",
      "Requirement already satisfied: parso<0.9.0,>=0.8.0 in c:\\users\\user\\anaconda3\\lib\\site-packages (from jedi>=0.16->ipython->ipython-sql) (0.8.3)\n",
      "Requirement already satisfied: executing in c:\\users\\user\\anaconda3\\lib\\site-packages (from stack-data->ipython->ipython-sql) (0.8.3)\n",
      "Requirement already satisfied: asttokens in c:\\users\\user\\anaconda3\\lib\\site-packages (from stack-data->ipython->ipython-sql) (2.0.5)\n",
      "Requirement already satisfied: pure-eval in c:\\users\\user\\anaconda3\\lib\\site-packages (from stack-data->ipython->ipython-sql) (0.2.2)\n",
      "Requirement already satisfied: prettytable in c:\\users\\user\\anaconda3\\lib\\site-packages (3.12.0)\n",
      "Requirement already satisfied: wcwidth in c:\\users\\user\\anaconda3\\lib\\site-packages (from prettytable) (0.2.5)\n",
      "The sql extension is already loaded. To reload it, use:\n",
      "  %reload_ext sql\n"
     ]
    }
   ],
   "source": [
    "#In this lab, I used sqlite to create table, view and index\n",
    "\n",
    "#installing packages\n",
    "!pip install ipython-sql\n",
    "!pip install prettytable\n",
    "%load_ext sql"
   ]
  },
  {
   "cell_type": "code",
   "execution_count": 22,
   "id": "f547ad5b-f83f-460d-aa57-e8510ec55305",
   "metadata": {},
   "outputs": [],
   "source": [
    "#importing packages\n",
    "import pandas as pd\n",
    "import sqlite3\n",
    "import prettytable"
   ]
  },
  {
   "cell_type": "code",
   "execution_count": 23,
   "id": "937c06bf-082e-48d3-aab0-fa6aa6c63167",
   "metadata": {},
   "outputs": [],
   "source": [
    "#connecting sqlite to a database\n",
    "conn = sqlite3.connect('sales.db')\n",
    "cur = conn.cursor()\n",
    "prettytable.DEFAULT='DEFAULT'"
   ]
  },
  {
   "cell_type": "code",
   "execution_count": 59,
   "id": "548a1cb3-6ae9-456b-997d-19443b6be115",
   "metadata": {},
   "outputs": [
    {
     "name": "stdout",
     "output_type": "stream",
     "text": [
      " * sqlite:///sales.db\n",
      "Done.\n",
      " * sqlite:///sales.db\n",
      "Done.\n",
      " * sqlite:///sales.db\n",
      "5 rows affected.\n"
     ]
    },
    {
     "data": {
      "text/plain": [
       "[]"
      ]
     },
     "execution_count": 59,
     "metadata": {},
     "output_type": "execute_result"
    }
   ],
   "source": [
    "#CREATING TABLE\n",
    "    \n",
    "%sql DROP TABLE IF EXISTS 'products';\n",
    "%sql CREATE TABLE products(id INTEGER PRIMARY KEY,\\\n",
    "name TEXT NOT NULL,\\\n",
    "category TEXT NOT NULL,\\\n",
    "price REAL NOT NULL,\\\n",
    "stock_quantity INTEGER NOT NULL);\n",
    "\n",
    "%sql INSERT INTO products (name, category, price, stock_quantity)\\\n",
    "VALUES('Smartphone', 'Electronics', 699.99, 150),\\\n",
    "('Laptop', 'Electronics', 999.99, 85),\\\n",
    "('Sneakers', 'Footwear', 89.99, 200),\\\n",
    "('Running Shoes', 'Footwear', 129.99, 120),\\\n",
    "('Blender', 'Home Appliances', 49.99, 60);"
   ]
  },
  {
   "cell_type": "code",
   "execution_count": 60,
   "id": "7316cbd3-e3b3-419d-a9cb-bcf0236d8f81",
   "metadata": {},
   "outputs": [
    {
     "name": "stdout",
     "output_type": "stream",
     "text": [
      " * sqlite:///sales.db\n",
      "Done.\n"
     ]
    },
    {
     "data": {
      "text/html": [
       "<table>\n",
       "    <thead>\n",
       "        <tr>\n",
       "            <th>id</th>\n",
       "            <th>name</th>\n",
       "            <th>category</th>\n",
       "            <th>price</th>\n",
       "            <th>stock_quantity</th>\n",
       "        </tr>\n",
       "    </thead>\n",
       "    <tbody>\n",
       "        <tr>\n",
       "            <td>1</td>\n",
       "            <td>Smartphone</td>\n",
       "            <td>Electronics</td>\n",
       "            <td>699.99</td>\n",
       "            <td>150</td>\n",
       "        </tr>\n",
       "        <tr>\n",
       "            <td>2</td>\n",
       "            <td>Laptop</td>\n",
       "            <td>Electronics</td>\n",
       "            <td>999.99</td>\n",
       "            <td>85</td>\n",
       "        </tr>\n",
       "        <tr>\n",
       "            <td>3</td>\n",
       "            <td>Sneakers</td>\n",
       "            <td>Footwear</td>\n",
       "            <td>89.99</td>\n",
       "            <td>200</td>\n",
       "        </tr>\n",
       "        <tr>\n",
       "            <td>4</td>\n",
       "            <td>Running Shoes</td>\n",
       "            <td>Footwear</td>\n",
       "            <td>129.99</td>\n",
       "            <td>120</td>\n",
       "        </tr>\n",
       "        <tr>\n",
       "            <td>5</td>\n",
       "            <td>Blender</td>\n",
       "            <td>Home Appliances</td>\n",
       "            <td>49.99</td>\n",
       "            <td>60</td>\n",
       "        </tr>\n",
       "    </tbody>\n",
       "</table>"
      ],
      "text/plain": [
       "[(1, 'Smartphone', 'Electronics', 699.99, 150),\n",
       " (2, 'Laptop', 'Electronics', 999.99, 85),\n",
       " (3, 'Sneakers', 'Footwear', 89.99, 200),\n",
       " (4, 'Running Shoes', 'Footwear', 129.99, 120),\n",
       " (5, 'Blender', 'Home Appliances', 49.99, 60)]"
      ]
     },
     "execution_count": 60,
     "metadata": {},
     "output_type": "execute_result"
    }
   ],
   "source": [
    "%sql SELECT *\\\n",
    "FROM products;"
   ]
  },
  {
   "cell_type": "code",
   "execution_count": 61,
   "id": "c2987c88-e9c4-4112-8466-8618beca2534",
   "metadata": {},
   "outputs": [
    {
     "name": "stdout",
     "output_type": "stream",
     "text": [
      " * sqlite:///sales.db\n",
      "Done.\n",
      " * sqlite:///sales.db\n",
      "Done.\n"
     ]
    },
    {
     "data": {
      "text/plain": [
       "[]"
      ]
     },
     "execution_count": 61,
     "metadata": {},
     "output_type": "execute_result"
    }
   ],
   "source": [
    "#CREATING VIEWS\n",
    "%sql DROP VIEW IF EXISTS 'low_stock_products';\n",
    "%sql CREATE VIEW low_stock_products AS\\\n",
    "SELECT id,name,category,price,stock_quantity FROM products\\\n",
    "WHERE stock_quantity < 100;"
   ]
  },
  {
   "cell_type": "code",
   "execution_count": 55,
   "id": "3686aa61-7d37-437f-8e32-8e58ce72da05",
   "metadata": {},
   "outputs": [
    {
     "name": "stdout",
     "output_type": "stream",
     "text": [
      " * sqlite:///sales.db\n",
      "Done.\n"
     ]
    },
    {
     "data": {
      "text/html": [
       "<table>\n",
       "    <thead>\n",
       "        <tr>\n",
       "            <th>id</th>\n",
       "            <th>name</th>\n",
       "            <th>category</th>\n",
       "            <th>price</th>\n",
       "            <th>stock_quantity</th>\n",
       "        </tr>\n",
       "    </thead>\n",
       "    <tbody>\n",
       "        <tr>\n",
       "            <td>2</td>\n",
       "            <td>Laptop</td>\n",
       "            <td>Electronics</td>\n",
       "            <td>999.99</td>\n",
       "            <td>85</td>\n",
       "        </tr>\n",
       "        <tr>\n",
       "            <td>5</td>\n",
       "            <td>Blender</td>\n",
       "            <td>Home Appliances</td>\n",
       "            <td>49.99</td>\n",
       "            <td>60</td>\n",
       "        </tr>\n",
       "    </tbody>\n",
       "</table>"
      ],
      "text/plain": [
       "[(2, 'Laptop', 'Electronics', 999.99, 85),\n",
       " (5, 'Blender', 'Home Appliances', 49.99, 60)]"
      ]
     },
     "execution_count": 55,
     "metadata": {},
     "output_type": "execute_result"
    }
   ],
   "source": [
    "%sql SELECT *\\\n",
    "FROM low_stock_products;"
   ]
  },
  {
   "cell_type": "code",
   "execution_count": 64,
   "id": "4f09555d-ca06-4197-8c0b-94a9099c1008",
   "metadata": {},
   "outputs": [
    {
     "name": "stdout",
     "output_type": "stream",
     "text": [
      " * sqlite:///sales.db\n",
      "Done.\n"
     ]
    },
    {
     "data": {
      "text/plain": [
       "[]"
      ]
     },
     "execution_count": 64,
     "metadata": {},
     "output_type": "execute_result"
    }
   ],
   "source": [
    "#CREATING INDEX\n",
    "%sql CREATE INDEX ind_cat ON products(category);"
   ]
  },
  {
   "cell_type": "code",
   "execution_count": 65,
   "id": "866660dc-50b6-46ad-ab16-3ddbada08e50",
   "metadata": {},
   "outputs": [
    {
     "name": "stdout",
     "output_type": "stream",
     "text": [
      " * sqlite:///sales.db\n",
      "Done.\n"
     ]
    },
    {
     "data": {
      "text/html": [
       "<table>\n",
       "    <thead>\n",
       "        <tr>\n",
       "            <th>id</th>\n",
       "            <th>name</th>\n",
       "            <th>category</th>\n",
       "            <th>price</th>\n",
       "            <th>stock_quantity</th>\n",
       "        </tr>\n",
       "    </thead>\n",
       "    <tbody>\n",
       "        <tr>\n",
       "            <td>3</td>\n",
       "            <td>Sneakers</td>\n",
       "            <td>Footwear</td>\n",
       "            <td>89.99</td>\n",
       "            <td>200</td>\n",
       "        </tr>\n",
       "        <tr>\n",
       "            <td>4</td>\n",
       "            <td>Running Shoes</td>\n",
       "            <td>Footwear</td>\n",
       "            <td>129.99</td>\n",
       "            <td>120</td>\n",
       "        </tr>\n",
       "    </tbody>\n",
       "</table>"
      ],
      "text/plain": [
       "[(3, 'Sneakers', 'Footwear', 89.99, 200),\n",
       " (4, 'Running Shoes', 'Footwear', 129.99, 120)]"
      ]
     },
     "execution_count": 65,
     "metadata": {},
     "output_type": "execute_result"
    }
   ],
   "source": [
    "%sql SELECT * FROM products WHERE category = 'Footwear';"
   ]
  },
  {
   "cell_type": "code",
   "execution_count": null,
   "id": "7ddbc9f9-6395-4a13-b16f-1669ea54dc84",
   "metadata": {},
   "outputs": [],
   "source": []
  },
  {
   "cell_type": "code",
   "execution_count": null,
   "id": "fbc040f1-7d8f-4b14-9541-5e8cd6909c0e",
   "metadata": {},
   "outputs": [],
   "source": []
  }
 ],
 "metadata": {
  "kernelspec": {
   "display_name": "Python 3 (ipykernel)",
   "language": "python",
   "name": "python3"
  },
  "language_info": {
   "codemirror_mode": {
    "name": "ipython",
    "version": 3
   },
   "file_extension": ".py",
   "mimetype": "text/x-python",
   "name": "python",
   "nbconvert_exporter": "python",
   "pygments_lexer": "ipython3",
   "version": "3.12.3"
  }
 },
 "nbformat": 4,
 "nbformat_minor": 5
}
